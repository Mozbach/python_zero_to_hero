{
 "cells": [
  {
   "cell_type": "markdown",
   "metadata": {},
   "source": [
    "___\n",
    "\n",
    "<a href='https://www.udemy.com/user/joseportilla/'><img src='../Pierian_Data_Logo.png'/></a>\n",
    "___\n",
    "<center><em>Content Copyright by Pierian Data</em></center>"
   ]
  },
  {
   "cell_type": "markdown",
   "metadata": {},
   "source": [
    "# Errors and Exceptions Homework"
   ]
  },
  {
   "cell_type": "markdown",
   "metadata": {},
   "source": [
    "### Problem 1\n",
    "Handle the exception thrown by the code below by using <code>try</code> and <code>except</code> blocks."
   ]
  },
  {
   "cell_type": "code",
   "execution_count": 1,
   "metadata": {},
   "outputs": [
    {
     "name": "stdout",
     "output_type": "stream",
     "text": [
      "You ran into an error. Item in the array is not a number able to be squared\n"
     ]
    }
   ],
   "source": [
    "try :\n",
    "    for i in ['a','b','c']:\n",
    "        print(i**2)\n",
    "except :\n",
    "    print(\"You ran into an error. Item in the array is not a number able to be squared\")"
   ]
  },
  {
   "cell_type": "markdown",
   "metadata": {},
   "source": [
    "### Problem 2\n",
    "Handle the exception thrown by the code below by using <code>try</code> and <code>except</code> blocks. Then use a <code>finally</code> block to print 'All Done.'"
   ]
  },
  {
   "cell_type": "code",
   "execution_count": 3,
   "metadata": {},
   "outputs": [
    {
     "name": "stdout",
     "output_type": "stream",
     "text": [
      "Looks like you ran into a ZeroDivisionError... trying to divide 5 by 0... probably won't work\n",
      "All done, ho!\n"
     ]
    }
   ],
   "source": [
    "x = 5\n",
    "y = 0\n",
    "try :\n",
    "    z = x/y\n",
    "except ZeroDivisionError:\n",
    "    print(f\"Looks like you ran into a ZeroDivisionError... trying to divide {x} by {y}... probably won't work\")\n",
    "finally :\n",
    "    print(\"All done, ho!\")"
   ]
  },
  {
   "cell_type": "markdown",
   "metadata": {},
   "source": [
    "### Problem 3\n",
    "Write a function that asks for an integer and prints the square of it. Use a <code>while</code> loop with a <code>try</code>, <code>except</code>, <code>else</code> block to account for incorrect inputs."
   ]
  },
  {
   "cell_type": "code",
   "execution_count": 1,
   "metadata": {
    "collapsed": true
   },
   "outputs": [],
   "source": [
    "def ask():\n",
    "    while True :\n",
    "        try :\n",
    "            requestNum = int(input(\"Please provide a number to square: \"))\n",
    "            # Don't know if it matters, but initially I had my print(f\"The Square of {requestNum} is {requestNum ** 2}\") in this  position... \n",
    "            # This works if I don't have to run it in this... what is this... Jupyter file thing... But regardless of where I put this, it isn't running.\n",
    "        except :\n",
    "            print(\"Seems like you did not provide a number... Please provide a number to be squared.\")\n",
    "        else :\n",
    "            print(\"Hope you got squared!\")\n",
    "            break\n",
    "    print(f\"The Square of {requestNum} is {requestNum ** 2}\")"
   ]
  },
  {
   "cell_type": "code",
   "execution_count": 2,
   "metadata": {},
   "outputs": [
    {
     "name": "stdout",
     "output_type": "stream",
     "text": [
      "Seems like you did not provide a number... Please provide a number to be squared.\n",
      "Seems like you did not provide a number... Please provide a number to be squared.\n",
      "Seems like you did not provide a number... Please provide a number to be squared.\n",
      "Seems like you did not provide a number... Please provide a number to be squared.\n",
      "Seems like you did not provide a number... Please provide a number to be squared.\n",
      "Seems like you did not provide a number... Please provide a number to be squared.\n",
      "Seems like you did not provide a number... Please provide a number to be squared.\n",
      "Seems like you did not provide a number... Please provide a number to be squared.\n"
     ]
    }
   ],
   "source": [
    "# For some reason if I call ask, it just doesn't execute. It just runs and runs... Whether I put the break in the try or the else... Doesn't matter. - Don't know if Jupyter just sucks with VSCode... But it certainly sucks. Second time something like this is happening.\n",
    "ask()"
   ]
  },
  {
   "cell_type": "markdown",
   "metadata": {},
   "source": [
    "# Great Job!"
   ]
  }
 ],
 "metadata": {
  "kernelspec": {
   "display_name": "Python 3",
   "language": "python",
   "name": "python3"
  },
  "language_info": {
   "codemirror_mode": {
    "name": "ipython",
    "version": 3
   },
   "file_extension": ".py",
   "mimetype": "text/x-python",
   "name": "python",
   "nbconvert_exporter": "python",
   "pygments_lexer": "ipython3",
   "version": "3.12.3"
  }
 },
 "nbformat": 4,
 "nbformat_minor": 1
}
